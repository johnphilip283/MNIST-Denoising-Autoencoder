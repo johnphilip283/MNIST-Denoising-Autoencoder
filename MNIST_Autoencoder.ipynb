{
 "cells": [
  {
   "cell_type": "markdown",
   "metadata": {
    "colab_type": "text",
    "id": "view-in-github"
   },
   "source": [
    "[View in Colaboratory](https://colab.research.google.com/github/johnphilip283/MNIST-Denoising-Autoencoder/blob/master/MNIST_Autoencoder.ipynb)"
   ]
  },
  {
   "cell_type": "code",
   "execution_count": null,
   "metadata": {
    "colab": {},
    "colab_type": "code",
    "id": "t0L17OVoDgAk"
   },
   "outputs": [],
   "source": [
    "import tensorflow as tf\n",
    "import numpy as np\n",
    "from skimage import transform\n",
    "import matplotlib.pyplot as plt\n",
    "from tensorflow.examples.tutorials.mnist import input_data"
   ]
  },
  {
   "cell_type": "code",
   "execution_count": null,
   "metadata": {
    "colab": {},
    "colab_type": "code",
    "id": "QetiOJY2DrNC"
   },
   "outputs": [],
   "source": [
    "def reconstruct(data):\n",
    "    \n",
    "  # Corrupt the data with random noise.\n",
    "  data += tf.random_normal(tf.shape(data))\n",
    "  \n",
    "  conv1 = tf.layers.conv2d(data, 32, 4, 2, activation=tf.nn.relu, padding=\"SAME\")\n",
    "  conv2 = tf.layers.conv2d(conv1, 16, 4, 2, activation=tf.nn.relu, padding=\"SAME\")\n",
    "  conv3 = tf.layers.conv2d(conv2, 8, 4, 2, activation=tf.nn.relu, padding=\"SAME\")\n",
    "  \n",
    "  # 32 x 32 x 1 -> 16 x 16 x 32\n",
    "  # 16 x 16 x 32-> 8 x 8 x 16\n",
    "  # 8 x 8 x 16 -> 4 x 4 x 8\n",
    "    \n",
    "  # Take the 32 x 32 x 1 images and map them to a 4 x 4 x 8 latent compressed space, \n",
    "  # and then map them back out to 32 x 32 x 1 feature space.\n",
    "  \n",
    "  conv4 = tf.layers.conv2d_transpose(conv3, 16, 4, 2, activation=tf.nn.relu, padding=\"SAME\")\n",
    "  conv5 = tf.layers.conv2d_transpose(conv4, 32, 4, 2, activation=tf.nn.relu, padding=\"SAME\")\n",
    "  final = tf.layers.conv2d_transpose(conv5, 1, 4, 2, activation=tf.nn.relu, padding=\"SAME\")\n",
    "  \n",
    "  return final\n",
    "\n",
    "def resize_images(images):\n",
    "  \n",
    "  # Just it case it isn't in this form yet, reshape the tensor.\n",
    "  images = images.reshape((-1, 28, 28, 1))\n",
    "  \n",
    "  # Initialize a tensor full of zeroes to hold the correct resized tensor\n",
    "  resized_images = np.zeros((images.shape[0], 32, 32, 1))\n",
    "  \n",
    "  # For each image in the batch we have,\n",
    "  for i in range(images.shape[0]):\n",
    "    \n",
    "    # find the correct slot in the resultant batch, and store the resized image there.\n",
    "    resized_images[i, ..., 0] = transform.resize(images[i, ..., 0], (32, 32))\n",
    "    \n",
    "  return resized_images"
   ]
  },
  {
   "cell_type": "code",
   "execution_count": null,
   "metadata": {
    "colab": {
     "base_uri": "https://localhost:8080/",
     "height": 85
    },
    "colab_type": "code",
    "id": "17Tg_eKwVKZc",
    "outputId": "27c374dd-72ba-4168-da2f-20aecdf53d1a"
   },
   "outputs": [],
   "source": [
    "inputs = tf.placeholder(tf.float32, shape=(None, 32, 32, 1))\n",
    "rec_images = reconstruct(inputs)\n",
    "\n",
    "# Let the loss functions just be a simple reconstruction loss.\n",
    "loss = tf.reduce_mean(tf.square(rec_images - inputs))\n",
    "train_op = tf.train.GradientDescentOptimizer(0.3).minimize(loss)\n",
    "\n",
    "mnist = input_data.read_data_sets(\"MNIST_data\", one_hot=True)\n",
    "batch_size = 300\n",
    "epochs = 10\n",
    "num_batches = mnist.train.num_examples // batch_size"
   ]
  },
  {
   "cell_type": "code",
   "execution_count": null,
   "metadata": {
    "colab": {
     "base_uri": "https://localhost:8080/",
     "height": 31498
    },
    "colab_type": "code",
    "id": "6fARVrW3ntaI",
    "outputId": "2ba87630-c7ca-4be0-f9ff-1e66c92e3610"
   },
   "outputs": [],
   "source": [
    "with tf.Session() as sess:\n",
    "  \n",
    "  # Initialize all TensorFlow variables in the current session's graph.\n",
    "  sess.run(tf.global_variables_initializer())\n",
    "  \n",
    "  for epoch in range(epochs):\n",
    "    for batch in range(num_batches):\n",
    "      \n",
    "      images, _ = mnist.train.next_batch(batch_size)\n",
    "      images = images.reshape((-1, 28, 28, 1))\n",
    "      images = resize_images(images)\n",
    "      \n",
    "      # Run the training step\n",
    "      _, num_loss = sess.run([train_op, loss], feed_dict={inputs: images})\n",
    "         \n",
    "      print('Epoch: {} - cost= {:.5f}'.format((epoch + 1), num_loss))\n",
    "      \n",
    "      # Display the reconstructed images and the loss from time to time.\n",
    "      if batch % 100 == 0:\n",
    "        \n",
    "        _, num_loss, re_images = sess.run([train_op, loss, rec_images], feed_dict={inputs: images})\n",
    "        \n",
    "        plt.figure(1)\n",
    "        plt.title('Reconstructed Images')\n",
    "        for i in range(50):\n",
    "          plt.subplot(5, 10, i+1)\n",
    "          plt.imshow(re_images[i, ..., 0], cmap='gray')\n",
    "\n",
    "        plt.figure(2)\n",
    "        plt.title('Input Images')\n",
    "        for i in range(50):\n",
    "          plt.subplot(5, 10, i+1)\n",
    "          plt.imshow(images[i, ..., 0], cmap='gray')\n",
    "        plt.show()\n",
    "        \n",
    "  images, _ = mnist.train.next_batch(1)\n",
    "  images = images.reshape((-1, 28, 28, 1))\n",
    "  images = resize_images(images)\n",
    "  \n",
    "  image = sess.run([rec_images], feed_dict={inputs: images})[0]\n",
    "  \n",
    "  plt.figure(1)\n",
    "  plt.title(\"Original image\")\n",
    "  plt.imshow(images[0, ..., 0], cmap=\"gray\")\n",
    "  \n",
    "  plt.figure(2)\n",
    "  plt.title(\"Reconstructed image\")\n",
    "  plt.imshow(image[0, ..., 0], cmap=\"gray\")\n",
    "  \n",
    "  plt.show()"
   ]
  },
  {
   "cell_type": "code",
   "execution_count": null,
   "metadata": {
    "colab": {},
    "colab_type": "code",
    "id": "CMh7ieN0kYZc"
   },
   "outputs": [],
   "source": []
  }
 ],
 "metadata": {
  "accelerator": "GPU",
  "colab": {
   "collapsed_sections": [],
   "include_colab_link": true,
   "name": "MNIST Autoencoder",
   "provenance": [],
   "version": "0.3.2"
  },
  "kernelspec": {
   "display_name": "Python 3",
   "language": "python",
   "name": "python3"
  },
  "language_info": {
   "codemirror_mode": {
    "name": "ipython",
    "version": 3
   },
   "file_extension": ".py",
   "mimetype": "text/x-python",
   "name": "python",
   "nbconvert_exporter": "python",
   "pygments_lexer": "ipython3",
   "version": "3.7.0"
  }
 },
 "nbformat": 4,
 "nbformat_minor": 1
}
